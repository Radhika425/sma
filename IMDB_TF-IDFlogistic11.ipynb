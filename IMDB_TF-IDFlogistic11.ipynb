#https://www.kaggle.com/datasets/lakshmi25npathi/imdb-dataset-of-50k-movie-reviews
!pip install pandas scikit-learn
import pandas as pd
from sklearn.feature_extraction.text import TfidfVectorizer
from sklearn.linear_model import LogisticRegression
from sklearn.model_selection import train_test_split
from sklearn.metrics import classification_report

# Load the dataset (only first 50 rows)
df = pd.read_csv('IMDB_Dataset.csv', nrows=50, on_bad_lines='skip', encoding='utf-8')

# Check if the dataset has expected columns
print(df.columns)  # Should show ['review', 'sentiment']

# Convert sentiment labels to binary: positive -> 1, negative -> 0
df['sentiment'] = df['sentiment'].map({'positive': 1, 'negative': 0})

# Vectorize reviews using TF-IDF
tfidf = TfidfVectorizer(stop_words='english', max_features=500)
X = tfidf.fit_transform(df['review'])

# Target variable
y = df['sentiment']

# Split into train and test sets (80/20 split)
X_train, X_test, y_train, y_test = train_test_split(X, y, test_size=0.2, random_state=42)

# Train a logistic regression classifier
model = LogisticRegression()
model.fit(X_train, y_train)

# Predict and evaluate
y_pred = model.predict(X_test)
print(classification_report(y_test, y_pred, target_names=["negative", "positive"]))
