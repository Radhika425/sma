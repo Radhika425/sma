#https://www.kaggle.com/code/karkin/mobile-device-usage-user-behavior-data-analysis/input
import pandas as pd
from sklearn.preprocessing import LabelEncoder, StandardScaler
from sklearn.cluster import KMeans
from sklearn.decomposition import PCA
import matplotlib.pyplot as plt
import seaborn as sns

# Load dataset (replace with your actual path if different)
df = pd.read_csv('user_behavior_kmean.csv', nrows=50, on_bad_lines='skip', encoding='utf-8')

# Drop User ID and actual User Behavior Class if present
df_features = df.drop(['User ID', 'User Behavior Class'], axis=1)

# Encode categorical features
label_encoders = {}
for col in ['Device Model', 'Operating System', 'Gender']:
    le = LabelEncoder()
    df_features[col] = le.fit_transform(df_features[col])
    label_encoders[col] = le

# Normalize features
scaler = StandardScaler()
scaled_features = scaler.fit_transform(df_features)

# Apply KMeans clustering
kmeans = KMeans(n_clusters=4, random_state=42, n_init=10)
df['Cluster'] = kmeans.fit_predict(scaled_features)

# Reduce to 2D for visualization using PCA
pca = PCA(n_components=2)
pca_result = pca.fit_transform(scaled_features)
df['PCA1'] = pca_result[:, 0]
df['PCA2'] = pca_result[:, 1]

# Plot clusters
plt.figure(figsize=(10, 6))
sns.scatterplot(data=df, x='PCA1', y='PCA2', hue='Cluster', palette='Set2', s=100)
plt.title('K-Means Clustering of Mobile User Behavior')
plt.xlabel('PCA Component 1')
plt.ylabel('PCA Component 2')
plt.legend(title='Cluster')
plt.grid(True)
plt.show()

# Optional: Display assigned clusters
print(df[['User ID', 'Cluster']])
