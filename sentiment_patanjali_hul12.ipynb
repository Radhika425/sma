https://www.kaggle.com/datasets/tusharpaul2001/brand-sentiment-analysis-dataset
!pip install pandas nltk matplotlib
import pandas as pd
import nltk
from nltk.sentiment import SentimentIntensityAnalyzer
import matplotlib.pyplot as plt

# Download the VADER lexicon
nltk.download('vader_lexicon')

# Load the dataset
df = pd.read_csv("patan_hul.csv", nrows=50, on_bad_lines='skip', encoding='utf-8')  # Replace with your file path

# OPTIONAL: If 'brand' column doesn't exist, extract brand manually
def detect_brand(text):
    text = str(text).lower()
    if 'patanjali' in text:
        return 'Patanjali'
    elif 'hul' in text or 'unilever' in text:
        return 'HUL'
    else:
        return 'Other'

# Apply the brand detection function
df['brand'] = df['Tweet'].apply(detect_brand)

# Check how many tweets are for each brand
print("\nBrand value counts:")
print(df['brand'].value_counts())

# Filter only Patanjali and HUL
df = df[df['brand'].isin(['Patanjali', 'HUL'])]

# If no rows left after filtering, print warning
if len(df) == 0:
    print("\nNo tweets found for Patanjali or HUL.")
else:
    # Initialize NLTK VADER for sentiment analysis
    sia = SentimentIntensityAnalyzer()

    # Function to get sentiment
    def get_sentiment(text):
        score = sia.polarity_scores(str(text))['compound']
        if score >= 0.05:
            return 'positive'
        elif score <= -0.05:
            return 'negative'
        else:
            return 'neutral'
     # Apply sentiment analysis on tweets
    df['sentiment'] = df['Tweet'].apply(get_sentiment)
    # Check if the sentiment column was created
    print("\nSentiment values for the first few tweets:")
    print(df[['Tweet', 'sentiment']].head())

    # Group by brand and sentiment, count occurrences
    result = df.groupby(['brand', 'sentiment']).size().unstack(fill_value=0)
    print("\nSentiment distribution by brand:")
    print(result)

    # Plot sentiment distribution for Patanjali and HUL
    result.plot(kind='bar', figsize=(10, 6))
    plt.title("Sentiment Comparison (Patanjali vs HUL) — No Cleaning")
    plt.xlabel("Brand")
    plt.ylabel("Tweet Count")
    plt.xticks(rotation=0)
    plt.legend(title='Sentiment')
    plt.tight_layout()
    plt.show()
