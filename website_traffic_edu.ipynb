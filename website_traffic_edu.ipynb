#https://www.kaggle.com/datasets/radb54/education-sma
import pandas as pd
import matplotlib.pyplot as plt
import seaborn as sns

# Load dataset
df = pd.read_csv('education.csv', nrows=50, on_bad_lines='skip', encoding='utf-8')

# Convert Month to datetime format for sorting and plotting
df['Month'] = pd.to_datetime(df['Month'])

# Sort by Month to keep order correct
df = df.sort_values(by='Month')

# Set plot style
sns.set(style="whitegrid")
plt.figure(figsize=(16, 12))

# 1. Bounce Rate Comparison
plt.subplot(3, 1, 1)
sns.lineplot(data=df, x='Month', y='Bounce_Rate', hue='Website', marker="o")
plt.title('Bounce Rate Over Time')
plt.ylabel('Bounce Rate (%)')
plt.xlabel('Month')
plt.xticks(rotation=45)

# 2. Visit Duration Comparison
plt.subplot(3, 1, 2)
sns.lineplot(data=df, x='Month', y='Visit_Duration', hue='Website', marker="o")
plt.title('Visit Duration Over Time')
plt.ylabel('Duration (seconds)')
plt.xlabel('Month')
plt.xticks(rotation=45)

# 3. Pages Per Visit Comparison
plt.subplot(3, 1, 3)
sns.lineplot(data=df, x='Month', y='Pages_Per_Visit', hue='Website', marker="o")
plt.title('Pages Per Visit Over Time')
plt.ylabel('Pages')
plt.xlabel('Month')
plt.xticks(rotation=45)

plt.tight_layout()
plt.show()
