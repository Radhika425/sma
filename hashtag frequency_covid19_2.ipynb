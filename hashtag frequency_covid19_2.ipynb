# https://www.kaggle.com/datasets/gpreda/covid19-tweets
# 1. Import Libraries
import kagglehub
import os
import pandas as pd
import re
from collections import Counter
import matplotlib.pyplot as plt
import seaborn as sns

# 2. Download and Load Dataset
path = kagglehub.dataset_download("gpreda/covid19-tweets")
print("Files:", os.listdir(path))
file_path = os.path.join(path, 'covid19_tweets.csv')
df = pd.read_csv(file_path)

# 3. Extract Hashtags Function
def extract_hashtags(text):
    return re.findall(r'#\w+', str(text).lower())

# 4. Apply Function
df['hashtags'] = df['text'].apply(extract_hashtags)

# 5. Flatten Hashtag List
all_hashtags = [hashtag for hashtags in df['hashtags'] for hashtag in hashtags]

# 6. Count Frequencies
hashtag_freq = Counter(all_hashtags)
top_hashtags = hashtag_freq.most_common(20)

# 7. Convert to DataFrame
hashtag_df = pd.DataFrame(top_hashtags, columns=['Hashtag', 'Frequency'])
# 8. Plot
plt.figure(figsize=(12,6))
sns.barplot(data=hashtag_df, x='Frequency', y='Hashtag', palette='viridis')
plt.title("Top 20 Most Frequent Hashtags in COVID-19 Tweets")
plt.xlabel("Frequency")
plt.ylabel("Hashtag")
plt.tight_layout()
plt.show()

top_hashtags = hashtag_freq.most_common(20)
print("Top 5 Hashtags:")
for i, (hashtag, freq) in enumerate(top_hashtags[:5], start=1):
    print(f"{i}. {hashtag} - {freq} times")
