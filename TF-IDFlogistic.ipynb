#https://www.kaggle.com/datasets/lakshmi25npathi/imdb-dataset-of-50k-movie-reviews
!pip install pandas scikit-learn
import pandas as pd
from sklearn.feature_extraction.text import TfidfVectorizer
from sklearn.linear_model import LogisticRegression
from sklearn.model_selection import train_test_split
from sklearn.metrics import classification_report

# Load the dataset (only first 50 rows)
df = pd.read_csv('IMDB_Dataset.csv', nrows=50, on_bad_lines='skip', encoding='utf-8')

# Check if the dataset has expected columns
print(df.columns)  # Should show ['review', 'sentiment']

# Convert sentiment labels to binary: positive -> 1, negative -> 0
df['sentiment'] = df['sentiment'].map({'positive': 1, 'negative': 0})

…# Train a logistic regression classifier
model = LogisticRegression()
model.fit(X_train, y_train)

# Predict and evaluate
y_pred = model.predict(X_test)
print(classification_report(y_test, y_pred, target_names=["negative", "positive"]))

# 1. Print selected feature (word) names
print("Top TF-IDF features (words):")
print(tfidf.get_feature_names_out())

# 2. Print TF-IDF vector for the first review
print("\nTF-IDF vector for the first review:")
print(X[0].toarray())

# 3. Create and print a DataFrame for easier view
tfidf_df = pd.DataFrame(X.toarray(), columns=tfidf.get_feature_names_out())
print("\nTF-IDF scores for first 5 reviews:")
print(tfidf_df.head())
