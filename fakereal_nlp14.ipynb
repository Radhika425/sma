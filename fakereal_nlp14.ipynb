#https://www.kaggle.com/datasets/clmentbisaillon/fake-and-real-news-dataset
import pandas as pd
import numpy as np
import matplotlib.pyplot as plt
import seaborn as sns

from sklearn.model_selection import train_test_split
from sklearn.feature_extraction.text import TfidfVectorizer
from sklearn.linear_model import LogisticRegression
from sklearn.metrics import classification_report, confusion_matrix
import nltk
from nltk.corpus import stopwords
import string

# Download stopwords
nltk.download('stopwords')
stop_words = set(stopwords.words('english'))

# ----------------- Load Dataset -----------------
fake_df = pd.read_csv('/content/Fake.csv', nrows=50, on_bad_lines='skip', encoding='utf-8')
real_df = pd.read_csv('/content/True.csv', nrows=50, on_bad_lines='skip', encoding='utf-8')

# Add labels
fake_df['label'] = 'FAKE'
real_df['label'] = 'REAL'

# Combine and shuffle
df = pd.concat([fake_df[['title', 'label']], real_df[['title', 'label']]])
df.dropna(inplace=True)
df = df.sample(frac=1, random_state=42).reset_index(drop=True)

# ----------------- Preprocess Headlines -----------------
def clean_text(text):
    text = text.lower()
    text = ''.join([char for char in text if char not in string.punctuation])
    words = text.split()
    words = [word for word in words if word not in stop_words]
    return ' '.join(words)

df['clean_title'] = df['title'].apply(clean_text)
# ----------------- Feature Extraction -----------------
vectorizer = TfidfVectorizer()
X = vectorizer.fit_transform(df['clean_title'])
y = df['label']

# ----------------- Train/Test Split -----------------
X_train, X_test, y_train, y_test = train_test_split(X, y, test_size=0.2, random_state=42)

# ----------------- Train Model -----------------
model = LogisticRegression()
model.fit(X_train, y_train)
# ----------------- Evaluate -----------------
y_pred = model.predict(X_test)

print("\nClassification Report:")
print(classification_report(y_test, y_pred))
# Confusion Matrix
cm = confusion_matrix(y_test, y_pred)
plt.figure(figsize=(6, 4))
sns.heatmap(cm, annot=True, fmt='d', cmap='Blues', xticklabels=['FAKE', 'REAL'], yticklabels=['FAKE', 'REAL'])
plt.xlabel('Predicted')
plt.ylabel('True')
plt.title('Confusion Matrix')
plt.show()
