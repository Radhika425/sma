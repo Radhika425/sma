# https://snap.stanford.edu/data/egonets-Facebook.html
import networkx as nx
import matplotlib.pyplot as plt
from networkx.algorithms import community
import urllib.request

# Step 1: Download and load the graph
url = "https://snap.stanford.edu/data/facebook_combined.txt.gz"
filename = "facebook_combined.txt.gz"
urllib.request.urlretrieve(url, filename)

# Read the edge list
G = nx.read_edgelist(filename, create_using=nx.Graph(), nodetype=int)

print(f"Graph Loaded: {G.number_of_nodes()} nodes, {G.number_of_edges()} edges")

# Step 2: Detect communities using greedy modularity
print("Detecting communities...")
communities = community.greedy_modularity_communities(G)

# Convert frozensets to a list of sets
communities = [set(c) for c in communities]

# Step 3: Calculate modularity score
modularity_score = community.modularity(G, communities)
print(f"Modularity Score: {modularity_score:.4f}")
print(f"Number of Communities Detected: {len(communities)}")

# Step 4: Print sample communities
print("\nSample communities:")
for i, com in enumerate(communities[:3]):
    print(f"Community {i+1} (size {len(com)}): {sorted(list(com))[:10]} ...")

# Step 5: Visualize small subgraph with communities
sample_nodes = set().union(*communities[:3])
H = G.subgraph(sample_nodes)

plt.figure(figsize=(10, 10))
pos = nx.spring_layout(H, seed=42)
colors = ['red', 'blue', 'green']
for i, com in enumerate(communities[:3]):
    nx.draw_networkx_nodes(H, pos, nodelist=list(com), node_size=50, node_color=colors[i % len(colors)], label=f'Community {i+1}')

nx.draw_networkx_edges(H, pos, alpha=0.2)
plt.title("Facebook Page-Page Sample Communities")
plt.axis('off')
plt.legend()
plt.show()
