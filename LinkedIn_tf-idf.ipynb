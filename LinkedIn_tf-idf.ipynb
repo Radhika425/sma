# https://www.kaggle.com/datasets/rajatraj0502/linkedin-job-2023
import pandas as pd
from sklearn.feature_extraction.text import TfidfVectorizer
import numpy as np
import kagglehub
import os
path = kagglehub.dataset_download("rajatraj0502/linkedin-job-2023")
print("Files:", os.listdir(path))
file_path = os.path.join(path, 'job_postings.csv')
df = pd.read_csv(file_path)
# Display the first few rows
print(df.head())

# Display column names
print(df.columns)

# Drop rows with missing job descriptions
df = df.dropna(subset=['description'])

# Reset index after dropping rows
df = df.reset_index(drop=True)

# Optional: Remove extra whitespace
df['description'] = df['description'].str.strip()

# Initialize TF-IDF Vectorizer
vectorizer = TfidfVectorizer(stop_words='english', max_features=1000)

# Fit and transform the job descriptions
tfidf_matrix = vectorizer.fit_transform(df['description'])

# Get feature names
feature_names = vectorizer.get_feature_names_out()
# Sum TF-IDF scores for each term
tfidf_scores = np.sum(tfidf_matrix.toarray(), axis=0)

# Create a DataFrame with terms and their corresponding scores
tfidf_df = pd.DataFrame({'term': feature_names, 'score': tfidf_scores})

# Sort terms by score in descending order
tfidf_df = tfidf_df.sort_values(by='score', ascending=False)
# Display top 20 terms
print(tfidf_df.head(20))

import matplotlib.pyplot as plt
import seaborn as sns

# Set plot size
plt.figure(figsize=(12, 6))
# Create barplot
sns.barplot(x='score', y='term', data=tfidf_df.head(20))

# Set plot labels and title
plt.xlabel('TF-IDF Score')
plt.ylabel('Skill')
plt.title('Top 20 In-Demand Skills in LinkedIn Job Postings')

# Display the plot
plt.tight_layout()
plt.show()

top_titles = df['title'].value_counts().head(5).index
for title in top_titles:
    subset = df[df['title'] == title]
    tfidf = TfidfVectorizer(stop_words='english', max_features=500)
    tfidf_matrix = tfidf.fit_transform(subset['description'].fillna(''))
    scores = np.sum(tfidf_matrix.toarray(), axis=0)
    terms = tfidf.get_feature_names_out()
    top_terms = pd.DataFrame({'term': terms, 'score': scores}).sort_values(by='score', ascending=False).head(10)

    plt.figure(figsize=(8,4))
    sns.barplot(x='score', y='term', data=top_terms)
    plt.title(f'Top Skills for {title}')
    plt.tight_layout()
    plt.show()
