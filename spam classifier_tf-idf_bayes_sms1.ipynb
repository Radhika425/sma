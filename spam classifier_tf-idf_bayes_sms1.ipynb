#https://www.kaggle.com/datasets/uciml/sms-spam-collection-dataset
# 1. Import Libraries
# import kagglehub
# import os
import pandas as pd
import re
from sklearn.model_selection import train_test_split
from sklearn.feature_extraction.text import TfidfVectorizer
from sklearn.naive_bayes import MultinomialNB
from sklearn.metrics import classification_report, confusion_matrix, accuracy_score

# 2. Load Dataset
df = pd.read_csv('spam.csv', encoding='latin-1')[['v1', 'v2']]
df.columns = ['label', 'message']

# 3. Clean Text
def clean_text(text):
    text = text.lower()                                 # Lowercase
    text = re.sub(r'[^a-z0-9\s]', '', text)             # Remove punctuation/special chars
    text = re.sub(r'\s+', ' ', text).strip()            # Remove extra spaces
    return text

df['message'] = df['message'].apply(clean_text)


# 4. Encode Labels
df['label_num'] = df['label'].map({'ham': 0, 'spam': 1})

# 5. Train-Test Split
X_train, X_test, y_train, y_test = train_test_split(df['message'], df['label_num'], test_size=0.2, random_state=42)

# 6. TF-IDF Vectorization
vectorizer = TfidfVectorizer(stop_words='english')
X_train_tfidf = vectorizer.fit_transform(X_train)
X_test_tfidf = vectorizer.transform(X_test)

# 7. Train Naive Bayes Classifier
model = MultinomialNB()
model.fit(X_train_tfidf, y_train)

# 8. Evaluate
y_pred = model.predict(X_test_tfidf)

print("Confusion Matrix:\n", confusion_matrix(y_test, y_pred))
print("\nClassification Report:\n", classification_report(y_test, y_pred))
print("Accuracy Score:", accuracy_score(y_test, y_pred))

# 9. Predict on User Input
while True:
    user_input = input("\nEnter an SMS message (or type 'exit' to quit): ")
    if user_input.lower() == 'exit':
        break
    cleaned_input = clean_text(user_input)
    input_tfidf = vectorizer.transform([cleaned_input])
    prediction = model.predict(input_tfidf)[0]
    label = 'Spam' if prediction == 1 else 'Ham'
    print("Prediction:", label)
