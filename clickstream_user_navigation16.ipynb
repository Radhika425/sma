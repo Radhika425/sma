#https://www.kaggle.com/datasets/radb54/analyze-clickstream-user-navigation16
import pandas as pd
import networkx as nx
import matplotlib.pyplot as plt
from collections import Counter

# Load your dataset
df = pd.read_csv('clickstream_data.csv')

# Sort by session and timestamp to track user flow
df['timestamp'] = pd.to_datetime(df['timestamp'])
df = df.sort_values(by=['session_id', 'timestamp'])

# Build navigation transitions (from_page -> to_page)
transitions = []

for session_id, group in df.groupby('session_id'):
    pages = list(group['page'])
    for i in range(len(pages) - 1):
        transitions.append((pages[i], pages[i+1]))

# Count transitions between pages
transition_counts = Counter(transitions)

# Create a directed graph
G = nx.DiGraph()

# Add edges with weights
for (from_page, to_page), weight in transition_counts.items():
    G.add_edge(from_page, to_page, weight=weight)

# Plot the graph
plt.figure(figsize=(12, 8))
pos = nx.spring_layout(G, k=0.5, seed=42)
edge_labels = nx.get_edge_attributes(G, 'weight')

nx.draw(G, pos, with_labels=True, node_color='lightblue', node_size=3000, font_size=10, font_weight='bold', arrows=True)
nx.draw_networkx_edge_labels(G, pos, edge_labels=edge_labels, font_color='red')
plt.title('Navigation Path Graph from Clickstream Data')
plt.show()

# Optional: Display top 5 transitions
print("Top 5 navigation transitions:")
for ((from_p, to_p), count) in transition_counts.most_common(5):
    print(f"{from_p} → {to_p}: {count} times")
