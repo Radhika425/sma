# https://www.kaggle.com/datasets/aaditshukla/flipkart-fasion-products-dataset
# 1. Import Libraries

import pandas as pd
from sklearn.feature_extraction.text import TfidfVectorizer
from sklearn.metrics.pairwise import cosine_similarity
import kagglehub
import os

# Download latest version
path = kagglehub.dataset_download("aaditshukla/flipkart-fasion-products-dataset")
print("Files:", os.listdir(path))
file_path = os.path.join(path, 'flipkart_fashion_products_dataset.json')

# 2. Load Dataset
df = pd.read_json(file_path)  # Change filename if needed
# 2. Load Dataset
# df = pd.read_json('flipkart_fashion_products_dataset.json')  # Adjust filename if needed

print(df.columns)

# 4. Preprocess Descriptions
df['description'] = df['description'].fillna('')
df['title'] = df['title'].fillna('')

# 5. TF-IDF Vectorization
vectorizer = TfidfVectorizer(stop_words='english')
tfidf_matrix = vectorizer.fit_transform(df['description'])

# 6. Define Function to Get Similar Products with Scores
def get_similar_products(index, top_n=5):
    cosine_sim = cosine_similarity(tfidf_matrix[index], tfidf_matrix).flatten()
    similar_indices = cosine_sim.argsort()[-top_n-1:-1][::-1]  # Skip self
    similar_scores = cosine_sim[similar_indices]
    result_df = df.iloc[similar_indices][['title', 'description']].copy()
    result_df['similarity_score'] = similar_scores
    return result_df


# 7. Test: Show Similar Products for Index 0
print("Query Product:\n", df.iloc[0][['title', 'description']], "\n")
print("Top 5 Similar Products:")
print(get_similar_products(0))
