import pandas as pd
import nltk
import re
from nltk.corpus import stopwords
from nltk.tokenize import RegexpTokenizer
from itertools import combinations
from collections import defaultdict, Counter
import networkx as nx
import matplotlib.pyplot as plt

# Download NLTK resources
nltk.download('stopwords')
nltk.download('punkt')

# Load the dataset (adjust path as needed)
import kagglehub
path = kagglehub.dataset_download("rogate16/amazon-reviews-2018-full-dataset")
file_path = os.path.join(path, 'amazon_reviews.csv')
df = pd.read_csv(file_path)

# Limit dataset size to 1000 for faster processing (adjust as needed)
df = df.head(1000)

# Keep only necessary columns
df = df[['reviewText', 'rating']]  # Using reviewText and rating (you can modify this as needed)

# Drop rows with missing reviewText
df = df.dropna(subset=['reviewText'])

# Preprocessing function
stop_words = set(stopwords.words('english'))
tokenizer = RegexpTokenizer(r'\w+')  # Using RegexpTokenizer


def preprocess(text):
    text = text.lower()
    text = re.sub(r'http\S+|@\w+|#\w+|[^a-z\s]', '', text)
    tokens = tokenizer.tokenize(text)
    tokens = [word for word in tokens if word not in stop_words]
    return tokens

# Apply preprocessing
df['keywords'] = df['reviewText'].apply(preprocess)

# Build co-occurrence matrix using Counter for efficiency
co_occurrence = Counter()
for keywords in df['keywords']:
    for pair in combinations(set(keywords), 2):
        pair = tuple(sorted(pair))
        co_occurrence[pair] += 1

# Filter co-occurrence to only include pairs that occur at least 5 times
co_occurrence = {pair: count for pair, count in co_occurrence.items() if count >= 5}

# Create the graph
G = nx.Graph()
# Add edges with weights
for (word1, word2), weight in co_occurrence.items():
    G.add_edge(word1, word2, weight=weight)

# Set node sizes based on degree
node_sizes = [G.degree(node) * 10 for node in G.nodes()]

# Set edge widths based on weight
edge_widths = [G[u][v]['weight'] * 0.1 for u, v in G.edges()]

# Generate layout
pos = nx.spring_layout(G, k=0.5)

# Draw nodes and edges
plt.figure(figsize=(15, 15))
nx.draw_networkx_nodes(G, pos, node_size=node_sizes, node_color='skyblue', alpha=0.7)
nx.draw_networkx_edges(G, pos, width=edge_widths, alpha=0.5)
nx.draw_networkx_labels(G, pos, font_size=8)

plt.title('Amazon Reviews Co-occurrence Network')
plt.axis('off')
plt.show()
