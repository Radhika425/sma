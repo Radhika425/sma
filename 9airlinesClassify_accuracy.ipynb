# https://www.kaggle.com/datasets/crowdflower/twitter-airline-sentiment

import pandas as pd
import re
import nltk
from nltk.corpus import stopwords
from nltk.stem import PorterStemmer
from sklearn.model_selection import train_test_split
from sklearn.feature_extraction.text import TfidfVectorizer
from sklearn.linear_model import LogisticRegression
from sklearn.metrics import classification_report, confusion_matrix, accuracy_score
from nltk.tokenize import RegexpTokenizer
import os

# Optional: Download dataset from Kaggle if needed
import kagglehub
path = kagglehub.dataset_download("crowdflower/twitter-airline-sentiment")
file_path = os.path.join(path, 'Tweets.csv')
df = pd.read_csv(file_path)

# Keep only necessary columns
df = df[['text', 'airline_sentiment']]

# Download NLTK resources
nltk.download('stopwords')
nltk.download('punkt')

# Initialize NLTK tools
stop_words = set(stopwords.words('english'))
stemmer = PorterStemmer()
tokenizer = RegexpTokenizer(r'\w+')  # Using RegexpTokenizer instead of word_tokenize

# Preprocessing function
def preprocess(text):
    text = text.lower()
    text = re.sub(r'http\S+|@\w+|#\w+|[^a-z\s]', '', text)
    tokens = tokenizer.tokenize(text)
    tokens = [stemmer.stem(word) for word in tokens if word not in stop_words]
    return ' '.join(tokens)

# Apply preprocessing
df['clean_text'] = df['text'].apply(preprocess)

# Split the data
X_train, X_test, y_train, y_test = train_test_split(
    df['clean_text'], df['airline_sentiment'], test_size=0.2, random_state=42
)

# Vectorize text using TF-IDF
vectorizer = TfidfVectorizer(max_features=5000)
X_train_tfidf = vectorizer.fit_transform(X_train)
X_test_tfidf = vectorizer.transform(X_test)

# Train the model
model = LogisticRegression(max_iter=1000)
model.fit(X_train_tfidf, y_train)

# Predict on test data
y_pred = model.predict(X_test_tfidf)

# Evaluation metrics
print("Accuracy:", accuracy_score(y_test, y_pred))
print("\nClassification Report:\n", classification_report(y_test, y_pred))
print("\nConfusion Matrix:\n", confusion_matrix(y_test, y_pred))

# Interactive Prediction Loop
while True:
    user_tweet = input("Enter a tweet (or type 'exit' to quit): ")
    if user_tweet.lower() == 'exit':
        break
      # Preprocess the user tweet
    processed_tweet = preprocess(user_tweet)

    # Vectorize and predict
    vectorized_input = vectorizer.transform([processed_tweet])
    prediction = model.predict(vectorized_input)[0]

    print(f"Predicted Sentiment: {prediction}\n")
