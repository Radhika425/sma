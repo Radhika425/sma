#https://www.kaggle.com/datasets/arhamrumi/amazon-product-reviews

!pip install pandas matplotlib seaborn textblob nltk python -m textblob.download_corpora

import pandas as pd
import seaborn as sns
import matplotlib.pyplot as plt
from textblob import TextBlob
from nltk.sentiment import SentimentIntensityAnalyzer
import nltk

# Download VADER lexicon
nltk.download('vader_lexicon')
sia = SentimentIntensityAnalyzer()

df = pd.read_csv('/content/Reviews.csv', nrows=50, on_bad_lines='skip', encoding='utf-8')

# Drop rows with missing text
df.dropna(subset=['Text'], inplace=True)

# ------------------- TextBlob Sentiment -------------------
def get_textblob_sentiment(text):
    analysis = TextBlob(text)
    if analysis.sentiment.polarity > 0:
        return 'Positive'
    elif analysis.sentiment.polarity < 0:
        return 'Negative'
    else:
        return 'Neutral'

df['TextBlob_Sentiment'] = df['Text'].apply(get_textblob_sentiment)

# ------------------- VADER Sentiment -------------------
def get_vader_sentiment(text):
    score = sia.polarity_scores(text)['compound']
    if score > 0.05:
        return 'Positive'
    elif score < -0.05:
        return 'Negative'
    else:
        return 'Neutral'

df['VADER_Sentiment'] = df['Text'].apply(get_vader_sentiment)

# ------------------- Visualization -------------------
plt.figure(figsize=(14, 6))

# TextBlob
plt.subplot(1, 2, 1)
sns.countplot(data=df, x='TextBlob_Sentiment', palette='Set2')
plt.title('TextBlob Sentiment Distribution (First 50)')
plt.xlabel('Sentiment')
plt.ylabel('Review Count')

# VADER
plt.subplot(1, 2, 2)
sns.countplot(data=df, x='VADER_Sentiment', palette='Set3')
plt.title('VADER Sentiment Distribution (First 50)')
plt.xlabel('Sentiment')
plt.ylabel('Review Count')

plt.tight_layout()
plt.show()
