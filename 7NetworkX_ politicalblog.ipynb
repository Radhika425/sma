import networkx as nx
import random
import matplotlib.pyplot as plt

# Load the synthetic political blog network (assuming you've saved the file 'synthetic_polblogs.txt')
G = nx.read_edgelist("synthetic_polblogs.txt", delimiter=" ", nodetype=int)

# Basic info manually (since nx.info() might not work)
print(f"Nodes: {G.number_of_nodes()}")
print(f"Edges: {G.number_of_edges()}")

# Degree Centrality
degree_centrality = nx.degree_centrality(G)

# Sort blogs by centrality
sorted_degree_centrality = sorted(degree_centrality.items(), key=lambda x: x[1], reverse=True)

# Top 10 opinion leaders by degree centrality
print("Top 10 opinion leaders by Degree Centrality:")
for blog, centrality in sorted_degree_centrality[:10]:
    print(f"Blog: {blog}, Degree Centrality: {centrality}")

# Betweenness Centrality
betweenness_centrality = nx.betweenness_centrality(G)

# Sort blogs by betweenness centrality
sorted_betweenness_centrality = sorted(betweenness_centrality.items(), key=lambda x: x[1], reverse=True)

# Top 10 opinion leaders by betweenness centrality
print("\nTop 10 opinion leaders by Betweenness Centrality:")
for blog, centrality in sorted_betweenness_centrality[:10]:
    print(f"Blog: {blog}, Betweenness Centrality: {centrality}")

# Closeness Centrality
closeness_centrality = nx.closeness_centrality(G)

# Sort blogs by closeness centrality
sorted_closeness_centrality = sorted(closeness_centrality.items(), key=lambda x: x[1], reverse=True)

# Top 10 opinion leaders by closeness centrality
print("\nTop 10 opinion leaders by Closeness Centrality:")
for blog, centrality in sorted_closeness_centrality[:10]:
    print(f"Blog: {blog}, Closeness Centrality: {centrality}")

# Eigenvector Centrality
eigenvector_centrality = nx.eigenvector_centrality(G)

# Sort blogs by eigenvector centrality
sorted_eigenvector_centrality = sorted(eigenvector_centrality.items(), key=lambda x: x[1], reverse=True)

# Top 10 opinion leaders by eigenvector centrality
print("\nTop 10 opinion leaders by Eigenvector Centrality:")
for blog, centrality in sorted_eigenvector_centrality[:10]:
    print(f"Blog: {blog}, Eigenvector Centrality: {centrality}")

# PageRank
pagerank = nx.pagerank(G)

# Sort blogs by pagerank
sorted_pagerank = sorted(pagerank.items(), key=lambda x: x[1], reverse=True)

# Top 10 opinion leaders by pagerank
print("\nTop 10 opinion leaders by PageRank:")
for blog, centrality in sorted_pagerank[:10]:
    print(f"Blog: {blog}, PageRank: {centrality}")

# Visualize the network
plt.figure(figsize=(12, 12))
nx.draw(G, node_size=20, node_color='blue', edge_color='gray', with_labels=False, alpha=0.5)
plt.title("Synthetic Political Blog Network")
plt.show()
